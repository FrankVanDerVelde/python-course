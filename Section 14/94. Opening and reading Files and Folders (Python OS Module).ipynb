{
 "cells": [
  {
   "cell_type": "code",
   "execution_count": 1,
   "metadata": {},
   "outputs": [
    {
     "data": {
      "text/plain": [
       "'C:\\\\Users\\\\Frank\\\\Desktop\\\\Werk\\\\personalGoals\\\\Python\\\\Section 14'"
      ]
     },
     "execution_count": 1,
     "metadata": {},
     "output_type": "execute_result"
    }
   ],
   "source": [
    "pwd"
   ]
  },
  {
   "cell_type": "code",
   "execution_count": 17,
   "metadata": {},
   "outputs": [],
   "source": [
    "f = open('practice.txt','w+')"
   ]
  },
  {
   "cell_type": "code",
   "execution_count": 18,
   "metadata": {},
   "outputs": [],
   "source": [
    "f.write('This is a test string')\n",
    "f.close()"
   ]
  },
  {
   "cell_type": "code",
   "execution_count": 19,
   "metadata": {},
   "outputs": [],
   "source": [
    "import os"
   ]
  },
  {
   "cell_type": "code",
   "execution_count": 20,
   "metadata": {},
   "outputs": [
    {
     "data": {
      "text/plain": [
       "'C:\\\\Users\\\\Frank\\\\Desktop\\\\Werk\\\\personalGoals\\\\Python\\\\Section 14'"
      ]
     },
     "execution_count": 20,
     "metadata": {},
     "output_type": "execute_result"
    }
   ],
   "source": [
    "os.getcwd()"
   ]
  },
  {
   "cell_type": "code",
   "execution_count": 21,
   "metadata": {},
   "outputs": [
    {
     "data": {
      "text/plain": [
       "['All Users',\n",
       " 'Default',\n",
       " 'Default User',\n",
       " 'defaultuser0',\n",
       " 'desktop.ini',\n",
       " 'Frank',\n",
       " 'Public']"
      ]
     },
     "execution_count": 21,
     "metadata": {},
     "output_type": "execute_result"
    }
   ],
   "source": [
    "os.listdir('C:\\\\Users')"
   ]
  },
  {
   "cell_type": "code",
   "execution_count": 22,
   "metadata": {},
   "outputs": [],
   "source": [
    "import shutil"
   ]
  },
  {
   "cell_type": "code",
   "execution_count": 24,
   "metadata": {},
   "outputs": [
    {
     "data": {
      "text/plain": [
       "'C:\\\\Users\\\\Frank\\\\Desktop\\\\practice.txt'"
      ]
     },
     "execution_count": 24,
     "metadata": {},
     "output_type": "execute_result"
    }
   ],
   "source": [
    "shutil.move('practice.txt', 'C:\\\\Users\\\\Frank\\\\Desktop')"
   ]
  },
  {
   "cell_type": "code",
   "execution_count": 26,
   "metadata": {},
   "outputs": [
    {
     "data": {
      "text/plain": [
       "['col.docx',\n",
       " 'Counter-Strike Source.url',\n",
       " 'Dead by Daylight.url',\n",
       " 'Deceive.exe',\n",
       " 'desktop.ini',\n",
       " 'Dieren namen.txt',\n",
       " 'Discord.lnk',\n",
       " 'FileZilla Client.lnk',\n",
       " 'Fish - Stardew Valley Wiki.html',\n",
       " 'Fish - Stardew Valley Wiki_files',\n",
       " 'Fortnite.url',\n",
       " 'Fortnite20200504231728-1592475523.mp4',\n",
       " 'Frank (Werk) - Chrome.lnk',\n",
       " 'Frank - Chrome.lnk',\n",
       " \"Garry's Mod.url\",\n",
       " 'GitHub Desktop.lnk',\n",
       " 'Golf With Your Friends.url',\n",
       " 'Gr8tfull vrije dagen.txt',\n",
       " 'HomeHero_eBook.pdf',\n",
       " 'Images.lnk',\n",
       " 'junk',\n",
       " 'max pl1.png',\n",
       " 'maxpl2.png',\n",
       " 'maxpl3.png',\n",
       " 'Medal.lnk',\n",
       " 'MedalTVFortnite20200617173243-1592475288.mp4',\n",
       " 'megashare.txt',\n",
       " 'Minecraft',\n",
       " 'Nox.lnk',\n",
       " 'Overwatch.lnk',\n",
       " 'peppa.bat',\n",
       " 'peppa.docx',\n",
       " 'PeppaPig - Chrome.lnk',\n",
       " 'Plays.lnk',\n",
       " 'practice.txt',\n",
       " 'Presentatie opzet.docx',\n",
       " 'Stardew Valley.url',\n",
       " 'Steam.lnk',\n",
       " 'Terraria.url',\n",
       " 'test.txt',\n",
       " 'The Witcher 3 Wild Hunt.url',\n",
       " 'Uplay.lnk',\n",
       " 'Visual Studio Code.lnk',\n",
       " 'Wallpaper Engine.url',\n",
       " 'Werk',\n",
       " 'WinDirStat.lnk',\n",
       " '~$esentatie opzet.docx',\n",
       " '~WRL0003.tmp',\n",
       " '~WRL3652.tmp']"
      ]
     },
     "execution_count": 26,
     "metadata": {},
     "output_type": "execute_result"
    }
   ],
   "source": [
    "os.listdir('C:\\\\Users\\\\Frank\\\\Desktop')"
   ]
  },
  {
   "cell_type": "code",
   "execution_count": 27,
   "metadata": {},
   "outputs": [],
   "source": [
    "import send2trash"
   ]
  },
  {
   "cell_type": "code",
   "execution_count": 29,
   "metadata": {},
   "outputs": [
    {
     "data": {
      "text/plain": [
       "'C:\\\\Users\\\\Frank\\\\Desktop\\\\Werk\\\\personalGoals\\\\Python\\\\Section 14\\\\practice.txt'"
      ]
     },
     "execution_count": 29,
     "metadata": {},
     "output_type": "execute_result"
    }
   ],
   "source": [
    "shutil.move('C:\\\\Users\\\\Frank\\\\Desktop\\\\practice.txt', os.getcwd())"
   ]
  },
  {
   "cell_type": "code",
   "execution_count": 30,
   "metadata": {},
   "outputs": [
    {
     "data": {
      "text/plain": [
       "[' practice.txt',\n",
       " '.ipynb_checkpoints',\n",
       " '93. Python Collections Module.ipynb',\n",
       " '94. Opening and reading Files and Folders (Python OS Module).ipynb',\n",
       " 'practice.txt']"
      ]
     },
     "execution_count": 30,
     "metadata": {},
     "output_type": "execute_result"
    }
   ],
   "source": [
    "os.listdir()"
   ]
  },
  {
   "cell_type": "code",
   "execution_count": 33,
   "metadata": {},
   "outputs": [],
   "source": [
    "send2trash.send2trash('practice.txt')"
   ]
  },
  {
   "cell_type": "code",
   "execution_count": 34,
   "metadata": {},
   "outputs": [
    {
     "data": {
      "text/plain": [
       "[' practice.txt',\n",
       " '.ipynb_checkpoints',\n",
       " '93. Python Collections Module.ipynb',\n",
       " '94. Opening and reading Files and Folders (Python OS Module).ipynb']"
      ]
     },
     "execution_count": 34,
     "metadata": {},
     "output_type": "execute_result"
    }
   ],
   "source": [
    "os.listdir()"
   ]
  },
  {
   "cell_type": "code",
   "execution_count": 41,
   "metadata": {},
   "outputs": [
    {
     "data": {
      "text/plain": [
       "['.ipynb_checkpoints',\n",
       " '01-Collections Module.ipynb',\n",
       " '02-Datetime.ipynb',\n",
       " '03-Python Debugger (pdb).ipynb',\n",
       " '04-Timing your code - timeit.ipynb',\n",
       " '05-Regular Expressions - re.ipynb',\n",
       " '06-StringIO.ipynb']"
      ]
     },
     "execution_count": 41,
     "metadata": {},
     "output_type": "execute_result"
    }
   ],
   "source": [
    "os.listdir('C:\\\\Users\\\\Frank\\\\Desktop\\\\Werk\\\\personalGoals\\\\Python\\\\Complete-Python-3-Bootcamp-master\\\\13-Advanced Python Modules')"
   ]
  },
  {
   "cell_type": "code",
   "execution_count": 42,
   "metadata": {},
   "outputs": [],
   "source": [
    "file_path = 'C:\\\\Users\\\\Frank\\\\Desktop\\\\Werk\\\\personalGoals\\\\Python\\\\Complete-Python-3-Bootcamp-master\\\\13-Advanced Python Modules\\\\Example_Top_Level'"
   ]
  },
  {
   "cell_type": "code",
   "execution_count": 48,
   "metadata": {},
   "outputs": [
    {
     "name": "stdout",
     "output_type": "stream",
     "text": [
      "Currently looking at C:\\Users\\Frank\\Desktop\\Werk\\personalGoals\\Python\\Section 14\n",
      "\n",
      "\n",
      "The subfolders are: \n",
      "Subfolder: .ipynb_checkpoints\n",
      "\n",
      "\n",
      "the files are: \n",
      "File:  practice.txt\n",
      "File: 93. Python Collections Module.ipynb\n",
      "File: 94. Opening and reading Files and Folders (Python OS Module).ipynb\n",
      "\n",
      "\n",
      "Currently looking at C:\\Users\\Frank\\Desktop\\Werk\\personalGoals\\Python\\Section 14\\.ipynb_checkpoints\n",
      "\n",
      "\n",
      "The subfolders are: \n",
      "\n",
      "\n",
      "the files are: \n",
      "File: 94. Opening and reading Files and Folders (Python OS Module)-checkpoint.ipynb\n",
      "\n",
      "\n"
     ]
    }
   ],
   "source": [
    "for folder, sub_folders, files in os.walk(os.getcwd()):\n",
    "    \n",
    "    print(f\"Currently looking at {folder}\")\n",
    "    print('\\n')\n",
    "    print('The subfolders are: ')\n",
    "    for sub_fold in sub_folders:\n",
    "        print(f\"Subfolder: {sub_fold}\")\n",
    "        \n",
    "    print('\\n')\n",
    "    print(\"the files are: \")\n",
    "    for f in files:\n",
    "        print(f\"File: {f}\")\n",
    "    print('\\n')"
   ]
  },
  {
   "cell_type": "code",
   "execution_count": null,
   "metadata": {},
   "outputs": [],
   "source": []
  }
 ],
 "metadata": {
  "kernelspec": {
   "display_name": "Python 3",
   "language": "python",
   "name": "python3"
  },
  "language_info": {
   "codemirror_mode": {
    "name": "ipython",
    "version": 3
   },
   "file_extension": ".py",
   "mimetype": "text/x-python",
   "name": "python",
   "nbconvert_exporter": "python",
   "pygments_lexer": "ipython3",
   "version": "3.7.6"
  }
 },
 "nbformat": 4,
 "nbformat_minor": 4
}
