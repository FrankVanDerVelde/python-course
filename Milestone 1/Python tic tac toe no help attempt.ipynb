{
 "cells": [
  {
   "cell_type": "code",
   "execution_count": null,
   "metadata": {},
   "outputs": [],
   "source": [
    "playing = False\n",
    "players_turn = '1'\n",
    "empty_board = ['#','1','2','3','4','5','6','7','8','9']\n",
    "\n",
    "\n",
    "def setup_game():\n",
    "    \n",
    "    player1 = input(\"Please pick a marker 'X' or 'O'\")\n",
    "    \n",
    "    if (player1 == 'X'):\n",
    "        player2 = 'O'\n",
    "\n",
    "    elif (player1 == 'O'):\n",
    "        player2 = 'X'\n",
    "        \n",
    "    return(player1, player2, True)\n",
    "        \n",
    "def start_round():\n",
    "    round_input = int(input(\"Player \" + players_turn + \" choose a position on the grid from '1' to '9'\"))\n",
    "    if (players_turn == '1'):\n",
    "        if (empty_board[round_input] != 'X' or empty_board[round_input] != 'O'):\n",
    "             empty_board[round_input] = player1\n",
    "        else:\n",
    "             start_round()\n",
    "        \n",
    "    elif (players_turn == '2'):\n",
    "        if (empty_board[round_input] != 'X' or empty_board[round_input] != 'O'):\n",
    "            empty_board[round_input] = player2\n",
    "        else:\n",
    "            start_round()\n",
    "        \n",
    "    display_board()\n",
    "    \n",
    "    \n",
    "    \n",
    "    \n",
    "    \n",
    "        \n",
    "def display_board():\n",
    "    print (empty_board[7] + '|' + empty_board[8] + '|' + empty_board[9])\n",
    "    print ('------')\n",
    "    print (empty_board[4] + '|' + empty_board[5] + '|' + empty_board[6])\n",
    "    print ('------')\n",
    "    print (empty_board[1] + '|' + empty_board[2] + '|' + empty_board[3])\n",
    "    \n",
    "        "
   ]
  },
  {
   "cell_type": "code",
   "execution_count": null,
   "metadata": {},
   "outputs": [],
   "source": [
    "startInput = input(\"Would you like to play Tic Tac Toe? 'Yes' / 'No'\")\n",
    "if (startInput.lower() == 'yes'):\n",
    "    markers = setup_game()\n",
    "    player1 = markers[0]\n",
    "    player2 = markers[1]\n",
    "    playing = markers[2]\n",
    "    \n",
    "    while (playing == True):\n",
    "        print('playing')\n",
    "        start_round()\n",
    "    \n",
    "else:\n",
    "    print('Goodbye')\n",
    "    "
   ]
  },
  {
   "cell_type": "code",
   "execution_count": null,
   "metadata": {},
   "outputs": [],
   "source": []
  },
  {
   "cell_type": "code",
   "execution_count": null,
   "metadata": {},
   "outputs": [],
   "source": []
  },
  {
   "cell_type": "code",
   "execution_count": null,
   "metadata": {},
   "outputs": [],
   "source": []
  },
  {
   "cell_type": "code",
   "execution_count": null,
   "metadata": {},
   "outputs": [],
   "source": []
  },
  {
   "cell_type": "code",
   "execution_count": null,
   "metadata": {},
   "outputs": [],
   "source": []
  }
 ],
 "metadata": {
  "kernelspec": {
   "display_name": "Python 3",
   "language": "python",
   "name": "python3"
  },
  "language_info": {
   "codemirror_mode": {
    "name": "ipython",
    "version": 3
   },
   "file_extension": ".py",
   "mimetype": "text/x-python",
   "name": "python",
   "nbconvert_exporter": "python",
   "pygments_lexer": "ipython3",
   "version": "3.7.6"
  }
 },
 "nbformat": 4,
 "nbformat_minor": 4
}
